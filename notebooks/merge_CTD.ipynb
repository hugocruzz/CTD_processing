{
 "cells": [
  {
   "cell_type": "code",
   "execution_count": 23,
   "id": "62c023a1",
   "metadata": {},
   "outputs": [
    {
     "name": "stdout",
     "output_type": "stream",
     "text": [
      "Checking folder: C:\\Users\\cruz\\Documents\\SENSE\\CTD_processing\\data\\Level1\\Sanna\n",
      "Checking folder: C:\\Users\\cruz\\Documents\\SENSE\\CTD_processing\\data\\Level1\\Sanna\\Idronaut\n",
      "Found CSV files: ['20240711_1412_idronaut_profile_1.csv', '20240711_1957_idronaut_profile_1.csv', '20240712_0949_idronaut_profile_1.csv', '20240712_1517_idronaut_profile_1.csv', '20240713_0749_idronaut_profile_1.csv', '20240713_1459_idronaut_profile_1.csv', '20240714_0805_idronaut_profile_1.csv', '20240714_1513_idronaut_profile_1.csv', '20240714_1811_idronaut_profile_1.csv', '20240714_2125_idronaut_profile_1.csv', '20240715_0517_idronaut_profile_1.csv', '20240715_0845_idronaut_profile_1.csv', '20240715_2158_idronaut_profile_1.csv', '20240716_0750_idronaut_profile_1.csv', '20240716_1441_idronaut_profile_1.csv', '20240716_2048_idronaut_profile_1.csv', '20240717_0747_idronaut_profile_1.csv', '20240717_1348_idronaut_profile_1.csv', '20240718_0751_idronaut_profile_1.csv', '20240718_1337_idronaut_profile_1.csv', '20240718_1707_idronaut_profile_1.csv', '20240719_0744_idronaut_profile_1.csv', '20240719_1612_idronaut_profile_1.csv', '20240720_0823_idronaut_profile_1.csv', '20240720_1502_idronaut_profile_1.csv', '20240721_0723_idronaut_profile_1.csv', '20240721_1004_idronaut_profile_1.csv', '20240721_1407_idronaut_profile_1.csv', '20240721_1717_idronaut_profile_1.csv']\n",
      "Found 1 folders with CSV files:\n",
      "- C:\\Users\\cruz\\Documents\\SENSE\\CTD_processing\\data\\Level1\\Sanna\\Idronaut\n"
     ]
    }
   ],
   "source": [
    "\n",
    "# %%\n",
    "import glob\n",
    "import pandas as pd\n",
    "import os\n",
    "import xarray as xr\n",
    "\n",
    "# Define campaign name (update as needed)\n",
    "campaign_name = 'Sanna'  # Replace with the actual campaign name if necessary\n",
    "#campaign_name = \"Forel\"\n",
    "# Define the base path for the data\n",
    "base_path = fr\"C:\\Users\\cruz\\Documents\\SENSE\\CTD_processing\\data\\Level1\\{campaign_name}\"\n",
    "\n",
    "# Create an empty list to store individual dataframes\n",
    "def find_all_folders_with_csv(base_path):\n",
    "    \"\"\"\n",
    "    Recursively find all folders containing CSV files\n",
    "    \"\"\"\n",
    "    folders_with_csv = []\n",
    "    \n",
    "    for root, dirs, files in os.walk(base_path):\n",
    "        print(f\"Checking folder: {root}\")  # Debugging statement\n",
    "        # Check if there are any CSV files in this directory\n",
    "        csv_files = [file for file in files if file.lower().endswith('.csv')]\n",
    "        if csv_files:\n",
    "            print(f\"Found CSV files: {csv_files}\")  # Debugging statement\n",
    "            folders_with_csv.append(root)\n",
    "            \n",
    "    return folders_with_csv\n",
    "# Find all folders containing CSV files\n",
    "folderlist = find_all_folders_with_csv(base_path)\n",
    "\n",
    "print(f\"Found {len(folderlist)} folders with CSV files:\")\n",
    "for folder in folderlist:\n",
    "    print(f\"- {folder}\")"
   ]
  },
  {
   "cell_type": "code",
   "execution_count": 21,
   "id": "308ac724",
   "metadata": {},
   "outputs": [
    {
     "name": "stdout",
     "output_type": "stream",
     "text": [
      "Successfully read: 20240703_1346_idronaut_profile_1.csv\n",
      "Successfully read: 20240703_1346_idronaut_profile_2.csv\n",
      "Successfully read: 20240706_1548_idronaut_profile_1.csv\n",
      "Successfully read: 20240707_1658_idronaut_profile_1.csv\n",
      "Successfully read: 20240707_1658_idronaut_profile_2.csv\n",
      "Successfully read: 20240707_1658_idronaut_profile_3.csv\n",
      "Successfully read: 20240707_1658_idronaut_profile_4.csv\n",
      "Successfully read: 20240707_1658_idronaut_profile_5.csv\n",
      "Successfully read: 20240708_1337_idronaut_profile_1.csv\n",
      "Successfully read: 2024-07-03T050545 SBE0251267_profile_1.csv\n",
      "Successfully read: 2024-07-04T024636 SBE0251267_profile_1.csv\n",
      "Successfully read: 2024-07-05T025055 SBE0251267_profile_1.csv\n",
      "Successfully read: 2024-07-06T053446 SBE0251267_profile_1.csv\n",
      "Successfully read: 2024-07-06T053446 SBE0251267_profile_2.csv\n",
      "Successfully read: 2024-07-07T041252 SBE0251267_profile_1.csv\n",
      "Successfully read: 2024-07-07T084335 SBE0251267_profile_1.csv\n",
      "Successfully read: 2024-07-07T094429 SBE0251267_profile_1.csv\n",
      "Successfully read: 2024-07-08T025539 SBE0251267_profile_1.csv\n",
      "Combined 18 files into a dataframe with 251208 rows and 33 columns\n",
      "Saved combined data to: C:\\Users\\cruz\\Documents\\SENSE\\CTD_processing\\data\\combined/combined_Forel_L1.csv\n"
     ]
    }
   ],
   "source": [
    "\n",
    "dfs = []\n",
    "# Process files in each subfolder\n",
    "for subfolder_path in folderlist:\n",
    "    # Find all CSV and NetCDF files in the subfolder\n",
    "    csv_files = glob.glob(os.path.join(subfolder_path, \"*.csv\"))\n",
    "    nc_files = glob.glob(os.path.join(subfolder_path, \"*.nc\"))\n",
    "    files = csv_files + nc_files\n",
    "\n",
    "    # Filter out files containing \"metadata\" in their names\n",
    "    files = [file for file in files if (\"metadata\" not in os.path.basename(file).lower())]\n",
    "\n",
    "    # Process each file\n",
    "    for file in files:\n",
    "        try:\n",
    "            # Extract the filename without extension\n",
    "            filename = os.path.basename(file)\n",
    "            filename_without_ext = os.path.splitext(filename)[0]\n",
    "            file_ext = os.path.splitext(file)[1].lower()\n",
    "\n",
    "            if file_ext == '.csv':\n",
    "                # Read the CSV file\n",
    "                df = pd.read_csv(file)\n",
    "            else:\n",
    "                print(f\"Unsupported file format: {file}\")\n",
    "                continue\n",
    "\n",
    "            # Add metadata columns\n",
    "            df['profile_name'] = filename_without_ext\n",
    "            #df['subfolder'] = os.path.basename(subfolder_path)\n",
    "\n",
    "            # Append to the list\n",
    "            dfs.append(df)\n",
    "            print(f\"Successfully read: {filename}\")\n",
    "        except Exception as e:\n",
    "            print(f\"Error reading {file}: {e}\")\n",
    "\n",
    "# Combine all dataframes into a single dataframe\n",
    "if dfs:\n",
    "    combined_df = pd.concat(dfs, ignore_index=True)\n",
    "    print(f\"Combined {len(dfs)} files into a dataframe with {combined_df.shape[0]} rows and {combined_df.shape[1]} columns\")\n",
    "\n",
    "    # Save the combined dataframe to a new CSV file\n",
    "    output_path = r\"C:\\Users\\cruz\\Documents\\SENSE\\CTD_processing\\data\\combined\" + f\"/combined_{campaign_name}_L1.csv\"\n",
    "    os.makedirs(os.path.dirname(output_path), exist_ok=True)  # Ensure the output directory exists\n",
    "    combined_df.to_csv(output_path, index=False)\n",
    "    print(f\"Saved combined data to: {output_path}\")\n",
    "else:\n",
    "    print(\"No files were successfully read.\")"
   ]
  },
  {
   "cell_type": "code",
   "execution_count": 22,
   "id": "71f32538",
   "metadata": {},
   "outputs": [
    {
     "data": {
      "text/plain": [
       "0         2024-03-07 13:47:27.350\n",
       "1         2024-03-07 13:47:27.590\n",
       "2         2024-03-07 13:47:27.840\n",
       "3         2024-03-07 13:47:28.090\n",
       "4         2024-03-07 13:47:28.330\n",
       "                   ...           \n",
       "251203                        NaN\n",
       "251204                        NaN\n",
       "251205                        NaN\n",
       "251206                        NaN\n",
       "251207                        NaN\n",
       "Name: datetime, Length: 251208, dtype: object"
      ]
     },
     "execution_count": 22,
     "metadata": {},
     "output_type": "execute_result"
    }
   ],
   "source": [
    "combined_df[\"datetime\"]"
   ]
  },
  {
   "cell_type": "code",
   "execution_count": null,
   "id": "cdb0698e",
   "metadata": {},
   "outputs": [],
   "source": []
  }
 ],
 "metadata": {
  "kernelspec": {
   "display_name": "pylake",
   "language": "python",
   "name": "python3"
  },
  "language_info": {
   "codemirror_mode": {
    "name": "ipython",
    "version": 3
   },
   "file_extension": ".py",
   "mimetype": "text/x-python",
   "name": "python",
   "nbconvert_exporter": "python",
   "pygments_lexer": "ipython3",
   "version": "3.10.11"
  }
 },
 "nbformat": 4,
 "nbformat_minor": 5
}
